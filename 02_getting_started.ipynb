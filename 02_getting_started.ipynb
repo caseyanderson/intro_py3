{
 "cells": [
  {
   "cell_type": "markdown",
   "metadata": {},
   "source": [
    "# introduction to Python 3\n",
    "\n",
    "## 02 getting started\n",
    "\n",
    "### materials\n",
    "* laptop\n",
    "* internet access\n",
    "\n",
    "blurb about what this one covers"
   ]
  },
  {
   "cell_type": "markdown",
   "metadata": {},
   "source": [
    "## if statements"
   ]
  },
  {
   "cell_type": "code",
   "execution_count": null,
   "metadata": {},
   "outputs": [],
   "source": [
    "x = int(input('please enter an integer: ') )\n",
    "\n",
    "if x < 0:\n",
    "    x = 0\n",
    "    print( 'negative changed to zero')\n",
    "elif x == 0:\n",
    "    print( 'Zero')\n",
    "elif x == 1:\n",
    "    print('single')\n",
    "else:\n",
    "    print('more')"
   ]
  },
  {
   "cell_type": "markdown",
   "metadata": {},
   "source": [
    "Quite a bit to talk about here. Let's break it down line by line:\n",
    "\n",
    "1. We called a statement that takes any input at the command line, converts it to an `int`, and assigns it to the variable `x`.\n",
    "2. After that, we start our test. If `x` is less than 0, set `x` to 0 and `print` the statement 'negative changed to zero'.\n",
    "3. `Elif` (means else if) `x` RETURNS 0, `print` zero. Else if `x` returns 1, `print` single. If none of those things are the case (the final `else`), print the string more.\n",
    "\n",
    "Before you try to type this in, notice the whitespace. Python groups statements together (in functions like this one, or otherwise) via whitespace. The normal Python protocol is to use four spaces to denote the first line belonging to a previous one (the line under the first if statement).\n",
    "\n",
    "Try to enter this into your interpreter with a different input value (not 42)."
   ]
  },
  {
   "cell_type": "markdown",
   "metadata": {},
   "source": [
    "## for statements"
   ]
  },
  {
   "cell_type": "code",
   "execution_count": null,
   "metadata": {},
   "outputs": [],
   "source": [
    "words = ['cat', 'widow', 'defenestrate']\n",
    "\n",
    "for w in words:\n",
    "    print(w, len(w))"
   ]
  },
  {
   "cell_type": "markdown",
   "metadata": {},
   "source": [
    "Python's `for` statement iterates over the items of any sequence (a `list` or a `string`), in the order that they appear in the sequence. The above function declares a list called `words` with three items: cat, widow, and defenestrate (all strings). Then, it says `for w` (used as an index here) in the list `words` `print` `w` (the item at that position and the length of that particular item). This is why we get the sequence of words with their string length returned. Upon completion of the `for` loop (when the loop has iterated over each item in the list) the loop terminates."
   ]
  }
 ],
 "metadata": {
  "kernelspec": {
   "display_name": "Python 3",
   "language": "python",
   "name": "python3"
  },
  "language_info": {
   "codemirror_mode": {
    "name": "ipython",
    "version": 3
   },
   "file_extension": ".py",
   "mimetype": "text/x-python",
   "name": "python",
   "nbconvert_exporter": "python",
   "pygments_lexer": "ipython3",
   "version": "3.7.0"
  }
 },
 "nbformat": 4,
 "nbformat_minor": 2
}
